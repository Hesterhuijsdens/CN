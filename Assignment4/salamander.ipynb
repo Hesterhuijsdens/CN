{
 "cells": [
  {
   "cell_type": "code",
   "execution_count": 1,
   "metadata": {
    "collapsed": true
   },
   "outputs": [],
   "source": [
    "import numpy as np\n",
    "from equations_BM import *\n",
    "from binary_data import *\n",
    "import pickle\n",
    "import pylab\n",
    "import math\n",
    "np.random.seed(4)"
   ]
  },
  {
   "cell_type": "code",
   "execution_count": 2,
   "metadata": {
    "collapsed": true
   },
   "outputs": [],
   "source": [
    "def poisson(lam, k):\n",
    "    return np.divide(float(np.power(lam, k)), math.factorial(k)) * np.exp(-1. * lam)\n",
    "\n",
    "def fr(r, dt):\n",
    "    return r * dt"
   ]
  },
  {
   "cell_type": "code",
   "execution_count": 203,
   "metadata": {},
   "outputs": [
    {
     "name": "stdout",
     "output_type": "stream",
     "text": [
      "[  1.00000000e+00   1.00000000e-01   1.00000000e-01   1.00000000e-02\n",
      "   1.00000000e-01   1.00000000e-02   1.00000000e-02   1.00000000e-03\n",
      "   1.00000000e-01   1.00000000e-02   1.00000000e-02   1.00000000e-03\n",
      "   1.00000000e-02   1.00000000e-03   1.00000000e-03   1.00000000e-04\n",
      "   1.00000000e-01   1.00000000e-02   1.00000000e-02   1.00000000e-03]\n",
      "[  1.00000000e-02   1.00000000e-03   1.00000000e-03 ...,   1.00000000e-09\n",
      "   1.00000000e-09   1.00000000e-10]\n"
     ]
    }
   ],
   "source": [
    "## predictions (#spikes, prob)\n",
    "ycount = np.ones(1024)\n",
    "states = list(product([-1, 1], repeat=10))\n",
    "for state in range(len(states)):\n",
    "#     ycount[state] *= poisson(sum(np.array(states[state]) == 1) * 2, 0)\n",
    "    for i in range(len(states[0])):\n",
    "        if states[state][i] == 1:\n",
    "            ycount[state] *= float(1./10)\n",
    "\n",
    "\n",
    "print ycount[:20]\n",
    "print ycount[20:]\n",
    "\n"
   ]
  },
  {
   "cell_type": "code",
   "execution_count": 202,
   "metadata": {},
   "outputs": [
    {
     "name": "stdout",
     "output_type": "stream",
     "text": [
      "2.06115362244e-09\n"
     ]
    },
    {
     "data": {
      "image/png": "[encoded data removed]",
      "text/plain": [
       "<matplotlib.figure.Figure at 0x342f0588>"
      ]
     },
     "metadata": {},
     "output_type": "display_data"
    }
   ],
   "source": [
    "plt.figure()\n",
    "print ycount[len(ycount)-1]\n",
    "# plt.plot(range(0, len(ycount)), ycount)\n",
    "# for i in range(len(np.array(xcount))):\n",
    "#     plt.scatter(xcount[i] / 283041., ycount[i], c=\"grey\", s=8)\n",
    "plt.plot(xcount / 283041., ycount, marker='o', linewidth=0)\n",
    "plt.xscale('log')\n",
    "plt.yscale('log')\n",
    "plt.ylim(1.e-10, 1.e2)\n",
    "plt.xlim(1.e-6, 1.e2)\n",
    "plt.show()\n"
   ]
  },
  {
   "cell_type": "code",
   "execution_count": 5,
   "metadata": {
    "collapsed": true
   },
   "outputs": [],
   "source": [
    "# data (spike train > # neurons)\n",
    "bint = np.loadtxt('bint.txt')\n",
    "bint = bint[20:30, :]\n",
    "bint[bint < 0.5] = -1"
   ]
  },
  {
   "cell_type": "code",
   "execution_count": 6,
   "metadata": {
    "collapsed": true
   },
   "outputs": [],
   "source": [
    "# observations (count occurrence)\n",
    "# N = np.shape(bint)[1]\n",
    "# xcount = np.zeros(11)\n",
    "# for k in range(N):\n",
    "#     for j in states:\n",
    "#         if (np.array(bint[:, k]) == np.array(j)).all():\n",
    "#             xcount[sum(np.array(j) == 1)] += 1\n",
    "# print xcount"
   ]
  },
  {
   "cell_type": "code",
   "execution_count": 7,
   "metadata": {
    "collapsed": true
   },
   "outputs": [],
   "source": [
    "# observations (count occurrence)\n",
    "N = np.shape(bint)[1]\n",
    "xcount = np.zeros(1024)\n",
    "for obs in range(N):\n",
    "    for state in range(np.shape(states)[0]):\n",
    "        if (np.array(bint[:, obs]) == np.array(states[state])).all():\n",
    "            xcount[state] += 1"
   ]
  },
  {
   "cell_type": "code",
   "execution_count": null,
   "metadata": {
    "collapsed": true
   },
   "outputs": [],
   "source": [
    "\n",
    "    "
   ]
  },
  {
   "cell_type": "code",
   "execution_count": 14,
   "metadata": {},
   "outputs": [
    {
     "data": {
      "image/png": "[encoded data removed]",
      "text/plain": [
       "<matplotlib.figure.Figure at 0x60a204e0>"
      ]
     },
     "metadata": {},
     "output_type": "display_data"
    }
   ],
   "source": [
    "plt.figure()\n",
    "for i in range(len(np.array(xcount))):\n",
    "    plt.scatter(xcount[i], ycount[i], c=\"grey\")\n",
    "plt.xscale('log')\n",
    "plt.yscale('log')\n",
    "plt.ylim(1.e-10, 1.e2)\n",
    "plt.xlim(1.e-6, 1.e2)\n",
    "plt.show()"
   ]
  },
  {
   "cell_type": "code",
   "execution_count": 9,
   "metadata": {},
   "outputs": [
    {
     "name": "stdout",
     "output_type": "stream",
     "text": [
      "-84.2398686336\n",
      "28.2139169264\n"
     ]
    }
   ],
   "source": [
    "# Boltmann predictions\n",
    "n = 200\n",
    "w, b, weightlist, wsum, bsum = boltzmann_train(bint, eta=0.03, n_epochs=n)"
   ]
  },
  {
   "cell_type": "code",
   "execution_count": null,
   "metadata": {
    "collapsed": true
   },
   "outputs": [],
   "source": []
  },
  {
   "cell_type": "code",
   "execution_count": 53,
   "metadata": {
    "collapsed": true
   },
   "outputs": [],
   "source": [
    "# predictions\n",
    "# predictions (#spikes, prob)\n",
    "zcount = np.zeros(1024)\n",
    "states = list(product([-1, 1], repeat=10))\n",
    "Z = np.sum(np.exp(states))\n",
    "for state in range(len(states)):\n",
    "    p = state_prob(states[state], w, b, Z)\n",
    "    zcount[state] = p"
   ]
  },
  {
   "cell_type": "code",
   "execution_count": 204,
   "metadata": {},
   "outputs": [
    {
     "data": {
      "image/png": "[encoded data removed]",
      "text/plain": [
       "<matplotlib.figure.Figure at 0x21f46208>"
      ]
     },
     "metadata": {},
     "output_type": "display_data"
    }
   ],
   "source": [
    "plt.figure()\n",
    "leg = [\"P1\", \"P2\"]\n",
    "\n",
    "for i in range(len(np.array(xcount))):\n",
    "    plt.scatter(xcount[i] / 283041., ycount[i], c=\"grey\", s=8)\n",
    "    plt.scatter(xcount[i] / 283041., zcount[i], c=\"red\", s=8)\n",
    "plt.xscale('log')\n",
    "plt.yscale('log')\n",
    "plt.ylim(1.e-10, 1.e2)\n",
    "plt.xlim(1.e-6, 1.e2)\n",
    "plt.legend(leg)\n",
    "plt.xlabel(\"Observed pattern rate (s^-1)\")\n",
    "plt.ylabel(\"Approximated pattern rate (s^-1)\")\n",
    "plt.tight_layout()\n",
    "plt.show()"
   ]
  },
  {
   "cell_type": "code",
   "execution_count": 12,
   "metadata": {
    "collapsed": true
   },
   "outputs": [],
   "source": [
    "# for i in range(L): \n",
    "#     lst_new=np.array(lst2[i])\n",
    "#     min_E=0.5*(np.dot(lst_new.T, np.dot(W, lst_new))) + np.dot(theta.T,lst_new)\n",
    "#     E_list.append(min_E)\n",
    "#     countX=0\n",
    "#     for j in range(np.shape(s)[0]):\n",
    "#         if np.sum(s[j]-lst_new)==0:\n",
    "#             countX=countX+1\n",
    "#     observed_pattern.append(countX)\n",
    "#     iteration+=1\n",
    "#     print(iteration)"
   ]
  },
  {
   "cell_type": "code",
   "execution_count": 13,
   "metadata": {
    "collapsed": true
   },
   "outputs": [],
   "source": [
    "# rate_obs=np.asarray(observed_pattern)/(np.shape(s)[0])\n",
    "# Z=np.sum(np.exp(E_list))\n",
    "# p_s=((1/Z)*np.exp(E_list))"
   ]
  }
 ],
 "metadata": {
  "kernelspec": {
   "display_name": "Python 2",
   "language": "python",
   "name": "python2"
  },
  "language_info": {
   "codemirror_mode": {
    "name": "ipython",
    "version": 2
   },
   "file_extension": ".py",
   "mimetype": "text/x-python",
   "name": "python",
   "nbconvert_exporter": "python",
   "pygments_lexer": "ipython2",
   "version": "2.7.13"
  }
 },
 "nbformat": 4,
 "nbformat_minor": 1
}
