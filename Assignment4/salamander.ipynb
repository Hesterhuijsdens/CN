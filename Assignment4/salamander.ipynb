{
 "cells": [
  {
   "cell_type": "code",
   "execution_count": 1,
   "metadata": {
    "collapsed": true
   },
   "outputs": [],
   "source": [
    "import numpy as np\n",
    "from equations_BM import *\n",
    "from binary_data import *\n",
    "import pickle\n",
    "import pylab\n",
    "import math"
   ]
  },
  {
   "cell_type": "code",
   "execution_count": 2,
   "metadata": {
    "collapsed": true
   },
   "outputs": [],
   "source": [
    "def poisson(lam, k):\n",
    "    return np.divide(float(np.power(lam, k)), math.factorial(k)) * np.exp(-1. * lam)"
   ]
  },
  {
   "cell_type": "code",
   "execution_count": 63,
   "metadata": {
    "collapsed": true
   },
   "outputs": [],
   "source": [
    "# predictions (#spikes, prob)\n",
    "# ycount = np.zeros(11)\n",
    "ycount = np.zeros(1024)\n",
    "states = list(product([-1, 1], repeat=10))\n",
    "for state in range(len(states)):\n",
    "    p = poisson(sum(np.array(states[state]) == 1), 0)\n",
    "    ycount[state] = p"
   ]
  },
  {
   "cell_type": "code",
   "execution_count": 7,
   "metadata": {
    "collapsed": true
   },
   "outputs": [],
   "source": [
    "# data (spike train > # neurons)\n",
    "bint = np.loadtxt('bint.txt')\n",
    "bint = bint[20:30, :]\n",
    "bint[bint < 0.5] = -1"
   ]
  },
  {
   "cell_type": "code",
   "execution_count": 8,
   "metadata": {},
   "outputs": [
    {
     "name": "stdout",
     "output_type": "stream",
     "text": [
      "[  1.93330000e+05   5.48860000e+04   2.33200000e+04   9.21600000e+03\n",
      "   2.06000000e+03   2.18000000e+02   1.00000000e+01   1.00000000e+00\n",
      "   0.00000000e+00   0.00000000e+00   0.00000000e+00]\n"
     ]
    }
   ],
   "source": [
    "# observations (count occurrence)\n",
    "# N = np.shape(bint)[1]\n",
    "# xcount = np.zeros(11)\n",
    "# for k in range(N):\n",
    "#     for j in states:\n",
    "#         if (np.array(bint[:, k]) == np.array(j)).all():\n",
    "#             xcount[sum(np.array(j) == 1)] += 1\n",
    "# print xcount"
   ]
  },
  {
   "cell_type": "code",
   "execution_count": 11,
   "metadata": {},
   "outputs": [
    {
     "name": "stdout",
     "output_type": "stream",
     "text": [
      "[ 193330.    8353.    7430. ...,       0.       0.       0.]\n"
     ]
    }
   ],
   "source": [
    "# observations (count occurrence)\n",
    "N = np.shape(bint)[1]\n",
    "xcount = np.zeros(1024)\n",
    "for obs in range(N):\n",
    "    for state in range(np.shape(states)[0]):\n",
    "        if (np.array(bint[:, obs]) == np.array(states[state])).all():\n",
    "            xcount[state] += 1"
   ]
  },
  {
   "cell_type": "code",
   "execution_count": null,
   "metadata": {},
   "outputs": [],
   "source": [
    "\n",
    "    "
   ]
  },
  {
   "cell_type": "code",
   "execution_count": 70,
   "metadata": {},
   "outputs": [
    {
     "data": {
      "image/png": "[encoded data removed]",
      "text/plain": [
       "<matplotlib.figure.Figure at 0x4241af98>"
      ]
     },
     "metadata": {},
     "output_type": "display_data"
    }
   ],
   "source": [
    "plt.figure()\n",
    "\n",
    "\n",
    "for i in range(len(np.array(xcount))):\n",
    "    plt.scatter(xcount[i] / 283041., ycount[i], c=\"grey\")\n",
    "    \n",
    "plt.xscale('log')\n",
    "plt.yscale('log')\n",
    "plt.show()"
   ]
  },
  {
   "cell_type": "code",
   "execution_count": 72,
   "metadata": {},
   "outputs": [
    {
     "name": "stdout",
     "output_type": "stream",
     "text": [
      "-123.488045663\n",
      "-62.3054276718\n"
     ]
    }
   ],
   "source": [
    "# Boltmann predictions\n",
    "n = 200\n",
    "w, b, weightlist, wsum, bsum = boltzmann_train(bint, eta=0.01, n_epochs=n)"
   ]
  },
  {
   "cell_type": "code",
   "execution_count": 10,
   "metadata": {},
   "outputs": [
    {
     "name": "stdout",
     "output_type": "stream",
     "text": [
      "(1024L, 10L)\n"
     ]
    }
   ],
   "source": []
  }
 ],
 "metadata": {
  "kernelspec": {
   "display_name": "Python 2",
   "language": "python",
   "name": "python2"
  },
  "language_info": {
   "codemirror_mode": {
    "name": "ipython",
    "version": 2
   },
   "file_extension": ".py",
   "mimetype": "text/x-python",
   "name": "python",
   "nbconvert_exporter": "python",
   "pygments_lexer": "ipython2",
   "version": "2.7.13"
  }
 },
 "nbformat": 4,
 "nbformat_minor": 1
}
