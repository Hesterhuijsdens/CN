{
 "cells": [
  {
   "cell_type": "code",
   "execution_count": 1,
   "metadata": {
    "collapsed": true
   },
   "outputs": [],
   "source": [
    "import numpy as np\n",
    "from equations_BM import *\n",
    "from binary_data import *\n",
    "import pickle\n",
    "import pylab\n",
    "import math"
   ]
  },
  {
   "cell_type": "code",
   "execution_count": 2,
   "metadata": {
    "collapsed": true
   },
   "outputs": [],
   "source": [
    "def poisson(lam, k):\n",
    "    return np.divide(float(np.power(lam, k)), math.factorial(k)) * np.exp(-1. * lam)"
   ]
  },
  {
   "cell_type": "code",
   "execution_count": 3,
   "metadata": {
    "collapsed": true
   },
   "outputs": [],
   "source": [
    "# predictions (#spikes, prob)\n",
    "ycount = np.zeros(11)\n",
    "states = list(product([-1, 1], repeat=10))\n",
    "for state in states:\n",
    "    p = poisson(sum(np.array(state) == 1), 0)\n",
    "    ycount[sum(np.array(state) == 1)] += p\n",
    "    # plt.scatter(sum(np.array(state) == 1), p)"
   ]
  },
  {
   "cell_type": "code",
   "execution_count": null,
   "metadata": {
    "collapsed": true
   },
   "outputs": [],
   "source": [
    "# data (spike train > # neurons)\n",
    "bint = np.loadtxt('bint.txt')\n",
    "bint = bint[20:30, :100]\n",
    "bint[bint < 0.5] = -1"
   ]
  },
  {
   "cell_type": "code",
   "execution_count": null,
   "metadata": {
    "collapsed": true
   },
   "outputs": [],
   "source": [
    "# observations (count occurrence)\n",
    "N = np.shape(bint)[1]\n",
    "xcount = np.zeros(11)\n",
    "for k in range(N):\n",
    "    for j in states:\n",
    "        if (np.array(bint[:, k]) == np.array(j)).all():\n",
    "            xcount[sum(np.array(j) == 1)] += 1\n",
    "print xcount"
   ]
  },
  {
   "cell_type": "code",
   "execution_count": null,
   "metadata": {
    "collapsed": true
   },
   "outputs": [],
   "source": [
    "plt.figure()\n",
    "\n",
    "# 1024 dots in plot\n",
    "for state in states:\n",
    "\n",
    "    # what is observed\n",
    "    x = xcount[sum(np.array(state) == 1)]\n",
    "\n",
    "    # what is predicted\n",
    "    y = ycount[sum(np.array(state) == 1)]\n",
    "    plt.scatter(x, y)\n",
    "# plt.xscale('log')\n",
    "# plt.yscale('log')\n",
    "plt.show()"
   ]
  }
 ],
 "metadata": {
  "kernelspec": {
   "display_name": "Python 2",
   "language": "python",
   "name": "python2"
  },
  "language_info": {
   "codemirror_mode": {
    "name": "ipython",
    "version": 2
   },
   "file_extension": ".py",
   "mimetype": "text/x-python",
   "name": "python",
   "nbconvert_exporter": "python",
   "pygments_lexer": "ipython2",
   "version": "2.7.13"
  }
 },
 "nbformat": 4,
 "nbformat_minor": 1
}
